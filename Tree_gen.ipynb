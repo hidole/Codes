{
 "cells": [
  {
   "cell_type": "code",
   "execution_count": 45,
   "metadata": {},
   "outputs": [],
   "source": [
    "class Node:\n",
    "    def __init__(self, data):\n",
    "        self.data = data\n",
    "        self.left = None;\n",
    "        self.right =None;\n",
    "        \n",
    "    def get_left_child(self):\n",
    "        return self.left;\n",
    "    \n",
    "    def get_right_child(self):\n",
    "        return self.right;\n",
    "    \n",
    "    def set_left_child(self, left):\n",
    "        self.left = left\n",
    "        \n",
    "    def set_right_child(self, right):\n",
    "        self.right = right\n",
    "        \n",
    "    def get_data(self):\n",
    "            return self.data\n",
    "    \n",
    "    def print_tree(self):\n",
    "            if self.left:\n",
    "                self.get_left_child().print_tree()\n",
    "            print (self.get_data())\n",
    "            \n",
    "            if self.right:\n",
    "                self.get_right_child.print_tree()\n",
    "            \n",
    "            \n"
   ]
  },
  {
   "cell_type": "code",
   "execution_count": 46,
   "metadata": {},
   "outputs": [],
   "source": [
    "a = Node(12)\n",
    "b = Node(22)\n",
    "c = Node (35)\n",
    "d = Node(43)\n",
    "e = Node (78)\n",
    "f = Node (89)\n",
    "\n"
   ]
  },
  {
   "cell_type": "code",
   "execution_count": 47,
   "metadata": {},
   "outputs": [],
   "source": [
    "a.set_left_child(b)\n"
   ]
  },
  {
   "cell_type": "code",
   "execution_count": 48,
   "metadata": {},
   "outputs": [],
   "source": [
    "b.set_left_child(e)\n"
   ]
  },
  {
   "cell_type": "code",
   "execution_count": 49,
   "metadata": {},
   "outputs": [
    {
     "name": "stdout",
     "output_type": "stream",
     "text": [
      "78\n",
      "22\n",
      "12\n"
     ]
    }
   ],
   "source": [
    "a.print_tree()"
   ]
  },
  {
   "cell_type": "code",
   "execution_count": null,
   "metadata": {},
   "outputs": [],
   "source": []
  }
 ],
 "metadata": {
  "kernelspec": {
   "display_name": "Python 3",
   "language": "python",
   "name": "python3"
  },
  "language_info": {
   "codemirror_mode": {
    "name": "ipython",
    "version": 3
   },
   "file_extension": ".py",
   "mimetype": "text/x-python",
   "name": "python",
   "nbconvert_exporter": "python",
   "pygments_lexer": "ipython3",
   "version": "3.8.11"
  }
 },
 "nbformat": 4,
 "nbformat_minor": 4
}
